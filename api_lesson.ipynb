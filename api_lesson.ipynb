{
 "cells": [
  {
   "cell_type": "markdown",
   "id": "35aa75cc-468b-4f20-88fb-119681fa48d7",
   "metadata": {},
   "source": [
    "# Spark API"
   ]
  },
  {
   "cell_type": "code",
   "execution_count": 1,
   "id": "7157792f-1e5e-4507-b95e-43f2737883e8",
   "metadata": {},
   "outputs": [],
   "source": [
    "import pydataset # for demonstration\n",
    "import pyspark"
   ]
  },
  {
   "cell_type": "code",
   "execution_count": 2,
   "id": "bf2f421a-5df7-4a78-8bd3-180f29c456ab",
   "metadata": {},
   "outputs": [],
   "source": [
    "spark = pyspark.sql.SparkSession.builder.getOrCreate()"
   ]
  },
  {
   "cell_type": "code",
   "execution_count": 4,
   "id": "1c0fbee4-b35d-4b3a-a657-75ec7e8a1edc",
   "metadata": {},
   "outputs": [
    {
     "data": {
      "text/html": [
       "<div>\n",
       "<style scoped>\n",
       "    .dataframe tbody tr th:only-of-type {\n",
       "        vertical-align: middle;\n",
       "    }\n",
       "\n",
       "    .dataframe tbody tr th {\n",
       "        vertical-align: top;\n",
       "    }\n",
       "\n",
       "    .dataframe thead th {\n",
       "        text-align: right;\n",
       "    }\n",
       "</style>\n",
       "<table border=\"1\" class=\"dataframe\">\n",
       "  <thead>\n",
       "    <tr style=\"text-align: right;\">\n",
       "      <th></th>\n",
       "      <th>total_bill</th>\n",
       "      <th>tip</th>\n",
       "      <th>sex</th>\n",
       "      <th>smoker</th>\n",
       "      <th>day</th>\n",
       "      <th>time</th>\n",
       "      <th>size</th>\n",
       "    </tr>\n",
       "  </thead>\n",
       "  <tbody>\n",
       "    <tr>\n",
       "      <th>1</th>\n",
       "      <td>16.99</td>\n",
       "      <td>1.01</td>\n",
       "      <td>Female</td>\n",
       "      <td>No</td>\n",
       "      <td>Sun</td>\n",
       "      <td>Dinner</td>\n",
       "      <td>2</td>\n",
       "    </tr>\n",
       "    <tr>\n",
       "      <th>2</th>\n",
       "      <td>10.34</td>\n",
       "      <td>1.66</td>\n",
       "      <td>Male</td>\n",
       "      <td>No</td>\n",
       "      <td>Sun</td>\n",
       "      <td>Dinner</td>\n",
       "      <td>3</td>\n",
       "    </tr>\n",
       "    <tr>\n",
       "      <th>3</th>\n",
       "      <td>21.01</td>\n",
       "      <td>3.50</td>\n",
       "      <td>Male</td>\n",
       "      <td>No</td>\n",
       "      <td>Sun</td>\n",
       "      <td>Dinner</td>\n",
       "      <td>3</td>\n",
       "    </tr>\n",
       "    <tr>\n",
       "      <th>4</th>\n",
       "      <td>23.68</td>\n",
       "      <td>3.31</td>\n",
       "      <td>Male</td>\n",
       "      <td>No</td>\n",
       "      <td>Sun</td>\n",
       "      <td>Dinner</td>\n",
       "      <td>2</td>\n",
       "    </tr>\n",
       "    <tr>\n",
       "      <th>5</th>\n",
       "      <td>24.59</td>\n",
       "      <td>3.61</td>\n",
       "      <td>Female</td>\n",
       "      <td>No</td>\n",
       "      <td>Sun</td>\n",
       "      <td>Dinner</td>\n",
       "      <td>4</td>\n",
       "    </tr>\n",
       "  </tbody>\n",
       "</table>\n",
       "</div>"
      ],
      "text/plain": [
       "   total_bill   tip     sex smoker  day    time  size\n",
       "1       16.99  1.01  Female     No  Sun  Dinner     2\n",
       "2       10.34  1.66    Male     No  Sun  Dinner     3\n",
       "3       21.01  3.50    Male     No  Sun  Dinner     3\n",
       "4       23.68  3.31    Male     No  Sun  Dinner     2\n",
       "5       24.59  3.61  Female     No  Sun  Dinner     4"
      ]
     },
     "execution_count": 4,
     "metadata": {},
     "output_type": "execute_result"
    }
   ],
   "source": [
    "tips = pydataset.data('tips')\n",
    "tips.head()"
   ]
  },
  {
   "cell_type": "code",
   "execution_count": 5,
   "id": "c063695a-fc4c-46ac-91aa-55ada7f2d350",
   "metadata": {},
   "outputs": [],
   "source": [
    "tips = spark.createDataFrame(tips) # any pandas dataframe"
   ]
  },
  {
   "cell_type": "code",
   "execution_count": 8,
   "id": "54559f3c-3a32-41b6-9591-ff05ccb062e7",
   "metadata": {},
   "outputs": [
    {
     "name": "stdout",
     "output_type": "stream",
     "text": [
      "+----------+----+------+------+---+------+----+\n",
      "|total_bill| tip|   sex|smoker|day|  time|size|\n",
      "+----------+----+------+------+---+------+----+\n",
      "|     16.99|1.01|Female|    No|Sun|Dinner|   2|\n",
      "|     10.34|1.66|  Male|    No|Sun|Dinner|   3|\n",
      "|     21.01| 3.5|  Male|    No|Sun|Dinner|   3|\n",
      "|     23.68|3.31|  Male|    No|Sun|Dinner|   2|\n",
      "|     24.59|3.61|Female|    No|Sun|Dinner|   4|\n",
      "|     25.29|4.71|  Male|    No|Sun|Dinner|   4|\n",
      "|      8.77| 2.0|  Male|    No|Sun|Dinner|   2|\n",
      "|     26.88|3.12|  Male|    No|Sun|Dinner|   4|\n",
      "|     15.04|1.96|  Male|    No|Sun|Dinner|   2|\n",
      "|     14.78|3.23|  Male|    No|Sun|Dinner|   2|\n",
      "|     10.27|1.71|  Male|    No|Sun|Dinner|   2|\n",
      "|     35.26| 5.0|Female|    No|Sun|Dinner|   4|\n",
      "|     15.42|1.57|  Male|    No|Sun|Dinner|   2|\n",
      "|     18.43| 3.0|  Male|    No|Sun|Dinner|   4|\n",
      "|     14.83|3.02|Female|    No|Sun|Dinner|   2|\n",
      "|     21.58|3.92|  Male|    No|Sun|Dinner|   2|\n",
      "|     10.33|1.67|Female|    No|Sun|Dinner|   3|\n",
      "|     16.29|3.71|  Male|    No|Sun|Dinner|   3|\n",
      "|     16.97| 3.5|Female|    No|Sun|Dinner|   3|\n",
      "|     20.65|3.35|  Male|    No|Sat|Dinner|   3|\n",
      "+----------+----+------+------+---+------+----+\n",
      "only showing top 20 rows\n",
      "\n"
     ]
    }
   ],
   "source": [
    "tips2 = tips.show()"
   ]
  },
  {
   "cell_type": "code",
   "execution_count": 9,
   "id": "81fe75ad-052b-4904-9ecf-98627b0fbde2",
   "metadata": {},
   "outputs": [],
   "source": [
    "tips2"
   ]
  },
  {
   "cell_type": "code",
   "execution_count": 10,
   "id": "a3ca9ff9-653b-4d0d-8a3b-f642747cb321",
   "metadata": {},
   "outputs": [
    {
     "data": {
      "text/plain": [
       "NoneType"
      ]
     },
     "execution_count": 10,
     "metadata": {},
     "output_type": "execute_result"
    }
   ],
   "source": [
    "type(tips2)"
   ]
  },
  {
   "cell_type": "code",
   "execution_count": 12,
   "id": "d8a540c7-c9ba-436d-a569-c96818b6b554",
   "metadata": {},
   "outputs": [],
   "source": [
    "first_five_rows = tips.head(5)"
   ]
  },
  {
   "cell_type": "code",
   "execution_count": 13,
   "id": "445bc0b5-a051-41de-b6cb-18af4c555106",
   "metadata": {},
   "outputs": [],
   "source": [
    "first_row = first_five_rows[0]"
   ]
  },
  {
   "cell_type": "code",
   "execution_count": 17,
   "id": "e38351f8-e37c-4235-b5c3-83d2c104c35d",
   "metadata": {},
   "outputs": [
    {
     "data": {
      "text/plain": [
       "16.99"
      ]
     },
     "execution_count": 17,
     "metadata": {},
     "output_type": "execute_result"
    }
   ],
   "source": [
    "first_row.total_bill"
   ]
  },
  {
   "cell_type": "code",
   "execution_count": 18,
   "id": "a1ce0113-d3c7-47be-b2a2-c3a6e79d307a",
   "metadata": {},
   "outputs": [
    {
     "data": {
      "text/plain": [
       "DataFrame[total_bill: double, tip: double, sex: string, smoker: string, day: string, time: string, size: bigint]"
      ]
     },
     "execution_count": 18,
     "metadata": {},
     "output_type": "execute_result"
    }
   ],
   "source": [
    "tips"
   ]
  },
  {
   "cell_type": "code",
   "execution_count": 20,
   "id": "3aab59b2-4d4a-4ef7-96ed-c66af2046e9c",
   "metadata": {},
   "outputs": [
    {
     "name": "stdout",
     "output_type": "stream",
     "text": [
      "+----------+------+---+\n",
      "|total_bill|smoker|day|\n",
      "+----------+------+---+\n",
      "|     16.99|    No|Sun|\n",
      "|     10.34|    No|Sun|\n",
      "|     21.01|    No|Sun|\n",
      "|     23.68|    No|Sun|\n",
      "|     24.59|    No|Sun|\n",
      "|     25.29|    No|Sun|\n",
      "|      8.77|    No|Sun|\n",
      "|     26.88|    No|Sun|\n",
      "|     15.04|    No|Sun|\n",
      "|     14.78|    No|Sun|\n",
      "|     10.27|    No|Sun|\n",
      "|     35.26|    No|Sun|\n",
      "|     15.42|    No|Sun|\n",
      "|     18.43|    No|Sun|\n",
      "|     14.83|    No|Sun|\n",
      "|     21.58|    No|Sun|\n",
      "|     10.33|    No|Sun|\n",
      "|     16.29|    No|Sun|\n",
      "|     16.97|    No|Sun|\n",
      "|     20.65|    No|Sat|\n",
      "+----------+------+---+\n",
      "only showing top 20 rows\n",
      "\n"
     ]
    }
   ],
   "source": [
    "tips.select('total_bill', 'smoker', 'day').show()"
   ]
  },
  {
   "cell_type": "code",
   "execution_count": 22,
   "id": "aedcf20c-dd00-4c6c-b4d2-6bc5f64ffcdf",
   "metadata": {},
   "outputs": [],
   "source": [
    "tip_percentage = tips.tip / tips.total_bill"
   ]
  },
  {
   "cell_type": "code",
   "execution_count": 30,
   "id": "241f04e6-b6c6-4f17-9a92-36e4e9654a21",
   "metadata": {},
   "outputs": [
    {
     "data": {
      "text/plain": [
       "Column<'(tip / total_bill) AS tip_perc'>"
      ]
     },
     "execution_count": 30,
     "metadata": {},
     "output_type": "execute_result"
    }
   ],
   "source": [
    "tip_percentage.alias('tip_perc')"
   ]
  },
  {
   "cell_type": "code",
   "execution_count": 33,
   "id": "c905f95c-bb20-4b60-b822-f66aa2f56761",
   "metadata": {},
   "outputs": [
    {
     "data": {
      "text/plain": [
       "Column<'(tip / total_bill)'>"
      ]
     },
     "execution_count": 33,
     "metadata": {},
     "output_type": "execute_result"
    }
   ],
   "source": [
    "tip_percentage"
   ]
  },
  {
   "cell_type": "code",
   "execution_count": 32,
   "id": "fdec5382-06b2-4b2a-a03d-6e1a1f8b779a",
   "metadata": {},
   "outputs": [
    {
     "data": {
      "text/plain": [
       "DataFrame[total_bill: double, tip: double, sex: string, smoker: string, day: string, time: string, size: bigint]"
      ]
     },
     "execution_count": 32,
     "metadata": {},
     "output_type": "execute_result"
    }
   ],
   "source": [
    "tips"
   ]
  },
  {
   "cell_type": "code",
   "execution_count": 34,
   "id": "036199d7-d0f1-4181-8735-9767e9cd2751",
   "metadata": {},
   "outputs": [],
   "source": [
    "tips = tips.select('*', tip_percentage.alias('tip_perc'))"
   ]
  },
  {
   "cell_type": "code",
   "execution_count": 35,
   "id": "cfc6bd06-a562-4a1b-b6cf-f3694eb889da",
   "metadata": {},
   "outputs": [
    {
     "data": {
      "text/plain": [
       "DataFrame[total_bill: double, tip: double, sex: string, smoker: string, day: string, time: string, size: bigint, tip_perc: double]"
      ]
     },
     "execution_count": 35,
     "metadata": {},
     "output_type": "execute_result"
    }
   ],
   "source": [
    "tips"
   ]
  },
  {
   "cell_type": "markdown",
   "id": "27be72c1-38a2-4ea6-8071-4c25a34edf7a",
   "metadata": {},
   "source": [
    "In spark, in order to modify objects, you must re-assign!\n",
    "\n",
    "Can we use pandas/numpy methods (e.g. `np.where`) with a spark dataframe? No, there's ways to do it w/ the spark API"
   ]
  },
  {
   "cell_type": "code",
   "execution_count": 41,
   "id": "7897acbf-4b00-4047-9077-a1279c4a7ec2",
   "metadata": {},
   "outputs": [
    {
     "data": {
      "text/plain": [
       "DataFrame[size: bigint, size: string]"
      ]
     },
     "execution_count": 41,
     "metadata": {},
     "output_type": "execute_result"
    }
   ],
   "source": [
    "tips.select('size', tips.size.cast('string'))"
   ]
  },
  {
   "cell_type": "code",
   "execution_count": 43,
   "id": "4b64e44c-42bb-42e3-9fb2-734e3b9792bd",
   "metadata": {},
   "outputs": [],
   "source": [
    "from pyspark.sql.functions import regexp_replace, regexp_extract"
   ]
  },
  {
   "cell_type": "code",
   "execution_count": 50,
   "id": "94d65194-138c-4e75-93d6-2deeff368c06",
   "metadata": {},
   "outputs": [
    {
     "data": {
      "text/plain": [
       "Column<'regexp_extract(time, ^(\\w), 1)'>"
      ]
     },
     "execution_count": 50,
     "metadata": {},
     "output_type": "execute_result"
    }
   ],
   "source": [
    "regexp_extract('time', r'^(\\w)', 1)"
   ]
  },
  {
   "cell_type": "code",
   "execution_count": 52,
   "id": "2826d7cb-f800-4e55-bf5c-ad708e9ea56d",
   "metadata": {},
   "outputs": [
    {
     "name": "stdout",
     "output_type": "stream",
     "text": [
      "+------+--------------------------------+------------+\n",
      "|  time|regexp_replace(time, .{3}$, , 1)|first_letter|\n",
      "+------+--------------------------------+------------+\n",
      "|Dinner|                             Din|           D|\n",
      "|Dinner|                             Din|           D|\n",
      "|Dinner|                             Din|           D|\n",
      "|Dinner|                             Din|           D|\n",
      "|Dinner|                             Din|           D|\n",
      "|Dinner|                             Din|           D|\n",
      "|Dinner|                             Din|           D|\n",
      "|Dinner|                             Din|           D|\n",
      "|Dinner|                             Din|           D|\n",
      "|Dinner|                             Din|           D|\n",
      "+------+--------------------------------+------------+\n",
      "only showing top 10 rows\n",
      "\n"
     ]
    }
   ],
   "source": [
    "tips.select(\n",
    "    'time',\n",
    "    regexp_replace('time', r'.{3}$', ''), # col, pattern, repl,\n",
    "    regexp_extract('time', r'^(\\w)', 1).alias('first_letter')\n",
    ").show(10)"
   ]
  },
  {
   "cell_type": "code",
   "execution_count": 57,
   "id": "8ecd9c7b-2d7a-4805-9bff-74a1f428e651",
   "metadata": {},
   "outputs": [
    {
     "data": {
      "text/plain": [
       "(8, 244)"
      ]
     },
     "execution_count": 57,
     "metadata": {},
     "output_type": "execute_result"
    }
   ],
   "source": [
    "len(tips.columns), tips.count()"
   ]
  },
  {
   "cell_type": "code",
   "execution_count": 58,
   "id": "532ccbb5-b65e-471a-b7ed-4ee17db48d80",
   "metadata": {},
   "outputs": [],
   "source": [
    "from pyspark.sql.functions import mean, sum"
   ]
  },
  {
   "cell_type": "code",
   "execution_count": 60,
   "id": "d0d88f06-a0ab-4082-a63c-4f890cb952bb",
   "metadata": {},
   "outputs": [
    {
     "name": "stdout",
     "output_type": "stream",
     "text": [
      "+------------------+\n",
      "|   avg(total_bill)|\n",
      "+------------------+\n",
      "|19.785942622950813|\n",
      "+------------------+\n",
      "\n"
     ]
    }
   ],
   "source": [
    "tips.select(mean('total_bill')).show()"
   ]
  },
  {
   "cell_type": "code",
   "execution_count": 61,
   "id": "d9661489-0a39-4201-9516-7b24a776a64c",
   "metadata": {},
   "outputs": [],
   "source": [
    "from pyspark.sql.functions import concat, lit"
   ]
  },
  {
   "cell_type": "code",
   "execution_count": 64,
   "id": "fe6c0421-f4da-4542-b31a-f002bbea0cf3",
   "metadata": {},
   "outputs": [
    {
     "name": "stdout",
     "output_type": "stream",
     "text": [
      "+----+-----------------------+\n",
      "|size|concat(Party of , size)|\n",
      "+----+-----------------------+\n",
      "|   2|             Party of 2|\n",
      "|   3|             Party of 3|\n",
      "|   3|             Party of 3|\n",
      "|   2|             Party of 2|\n",
      "|   4|             Party of 4|\n",
      "|   4|             Party of 4|\n",
      "|   2|             Party of 2|\n",
      "|   4|             Party of 4|\n",
      "|   2|             Party of 2|\n",
      "|   2|             Party of 2|\n",
      "|   2|             Party of 2|\n",
      "|   4|             Party of 4|\n",
      "|   2|             Party of 2|\n",
      "|   4|             Party of 4|\n",
      "|   2|             Party of 2|\n",
      "|   2|             Party of 2|\n",
      "|   3|             Party of 3|\n",
      "|   3|             Party of 3|\n",
      "|   3|             Party of 3|\n",
      "|   3|             Party of 3|\n",
      "+----+-----------------------+\n",
      "only showing top 20 rows\n",
      "\n"
     ]
    }
   ],
   "source": [
    "# party of 4, party of 3\n",
    "tips.select(\n",
    "    'size',\n",
    "    concat(lit('Party of '), 'size'),\n",
    ").show()"
   ]
  },
  {
   "cell_type": "code",
   "execution_count": 66,
   "id": "d876495c-120e-483b-b9bb-999c56149107",
   "metadata": {},
   "outputs": [],
   "source": [
    "from pyspark.sql.functions import when"
   ]
  },
  {
   "cell_type": "code",
   "execution_count": 69,
   "id": "2852d942-e3d2-4550-b9eb-a0de0bdfa1e5",
   "metadata": {},
   "outputs": [
    {
     "data": {
      "text/plain": [
       "Column<'CASE WHEN (tip_perc > 0.2) THEN good tip! ELSE not a good tip END'>"
      ]
     },
     "execution_count": 69,
     "metadata": {},
     "output_type": "execute_result"
    }
   ],
   "source": [
    "when(tips.tip_perc > .20, 'good tip!').otherwise('not a good tip')"
   ]
  },
  {
   "cell_type": "code",
   "execution_count": 70,
   "id": "3f99f9d2-7c7d-407e-af55-e0c58e664330",
   "metadata": {},
   "outputs": [
    {
     "name": "stdout",
     "output_type": "stream",
     "text": [
      "+-------------------+---------------+\n",
      "|           tip_perc|tip_description|\n",
      "+-------------------+---------------+\n",
      "|0.05944673337257211| not a good tip|\n",
      "|0.16054158607350097| not a good tip|\n",
      "|0.16658733936220846| not a good tip|\n",
      "| 0.1397804054054054| not a good tip|\n",
      "|0.14680764538430255| not a good tip|\n",
      "|0.18623962040332148| not a good tip|\n",
      "|0.22805017103762829|      good tip!|\n",
      "|0.11607142857142858| not a good tip|\n",
      "|0.13031914893617022| not a good tip|\n",
      "| 0.2185385656292287|      good tip!|\n",
      "| 0.1665043816942551| not a good tip|\n",
      "|0.14180374361883155| not a good tip|\n",
      "|0.10181582360570687| not a good tip|\n",
      "|0.16277807921866522| not a good tip|\n",
      "|0.20364126770060686|      good tip!|\n",
      "|0.18164967562557924| not a good tip|\n",
      "| 0.1616650532429816| not a good tip|\n",
      "|0.22774708410067526|      good tip!|\n",
      "|0.20624631703005306|      good tip!|\n",
      "|0.16222760290556903| not a good tip|\n",
      "+-------------------+---------------+\n",
      "only showing top 20 rows\n",
      "\n"
     ]
    }
   ],
   "source": [
    "tips.select(\n",
    "    'tip_perc',\n",
    "    when(tips.tip_perc > .20, 'good tip!').otherwise('not a good tip').alias('tip_description')\n",
    ").show()"
   ]
  },
  {
   "cell_type": "code",
   "execution_count": 72,
   "id": "69d84be5-addd-4fda-a87b-bdb2910be363",
   "metadata": {},
   "outputs": [
    {
     "name": "stdout",
     "output_type": "stream",
     "text": [
      "+----------+----+------+------+---+------+----+-------------------+\n",
      "|total_bill| tip|   sex|smoker|day|  time|size|           tip_perc|\n",
      "+----------+----+------+------+---+------+----+-------------------+\n",
      "|      8.77| 2.0|  Male|    No|Sun|Dinner|   2|0.22805017103762829|\n",
      "|     14.78|3.23|  Male|    No|Sun|Dinner|   2| 0.2185385656292287|\n",
      "|     14.83|3.02|Female|    No|Sun|Dinner|   2|0.20364126770060686|\n",
      "|     16.29|3.71|  Male|    No|Sun|Dinner|   3|0.22774708410067526|\n",
      "|     16.97| 3.5|Female|    No|Sun|Dinner|   3|0.20624631703005306|\n",
      "|     17.92|4.08|  Male|    No|Sat|Dinner|   2|0.22767857142857142|\n",
      "|     13.94|3.06|  Male|    No|Sun|Dinner|   2|0.21951219512195122|\n",
      "|     22.23| 5.0|  Male|    No|Sun|Dinner|   2|0.22492127755285649|\n",
      "|     10.29| 2.6|Female|    No|Sun|Dinner|   2| 0.2526724975704568|\n",
      "|     18.29|3.76|  Male|   Yes|Sat|Dinner|   4|0.20557681793329688|\n",
      "+----------+----+------+------+---+------+----+-------------------+\n",
      "only showing top 10 rows\n",
      "\n"
     ]
    }
   ],
   "source": [
    "tips.where(tips.tip_perc > .2).show(10)"
   ]
  },
  {
   "cell_type": "code",
   "execution_count": 73,
   "id": "67e7cd6e-7854-484d-ae4a-9d405c042cf3",
   "metadata": {},
   "outputs": [
    {
     "name": "stdout",
     "output_type": "stream",
     "text": [
      "+----------+----+------+------+---+------+----+-------------------+\n",
      "|total_bill| tip|   sex|smoker|day|  time|size|           tip_perc|\n",
      "+----------+----+------+------+---+------+----+-------------------+\n",
      "|      8.77| 2.0|  Male|    No|Sun|Dinner|   2|0.22805017103762829|\n",
      "|     14.78|3.23|  Male|    No|Sun|Dinner|   2| 0.2185385656292287|\n",
      "|     14.83|3.02|Female|    No|Sun|Dinner|   2|0.20364126770060686|\n",
      "|     16.29|3.71|  Male|    No|Sun|Dinner|   3|0.22774708410067526|\n",
      "|     16.97| 3.5|Female|    No|Sun|Dinner|   3|0.20624631703005306|\n",
      "|     17.92|4.08|  Male|    No|Sat|Dinner|   2|0.22767857142857142|\n",
      "|     13.94|3.06|  Male|    No|Sun|Dinner|   2|0.21951219512195122|\n",
      "|     22.23| 5.0|  Male|    No|Sun|Dinner|   2|0.22492127755285649|\n",
      "|     10.29| 2.6|Female|    No|Sun|Dinner|   2| 0.2526724975704568|\n",
      "|     18.29|3.76|  Male|   Yes|Sat|Dinner|   4|0.20557681793329688|\n",
      "+----------+----+------+------+---+------+----+-------------------+\n",
      "only showing top 10 rows\n",
      "\n"
     ]
    }
   ],
   "source": [
    "tips.filter(tips.tip_perc > .2).show(10)"
   ]
  },
  {
   "cell_type": "code",
   "execution_count": 74,
   "id": "119f5f15-eddc-45de-b3e8-494533dccdd7",
   "metadata": {},
   "outputs": [
    {
     "name": "stdout",
     "output_type": "stream",
     "text": [
      "+----------+----+------+------+----+------+----+-------------------+\n",
      "|total_bill| tip|   sex|smoker| day|  time|size|           tip_perc|\n",
      "+----------+----+------+------+----+------+----+-------------------+\n",
      "|     10.07|1.83|Female|    No|Thur| Lunch|   1| 0.1817279046673287|\n",
      "|      8.58|1.92|  Male|   Yes| Fri| Lunch|   1|0.22377622377622378|\n",
      "|      3.07| 1.0|Female|   Yes| Sat|Dinner|   1|0.32573289902280134|\n",
      "|      7.25| 1.0|Female|    No| Sat|Dinner|   1|0.13793103448275862|\n",
      "|     14.83|3.02|Female|    No| Sun|Dinner|   2|0.20364126770060686|\n",
      "|      21.7| 4.3|  Male|    No| Sat|Dinner|   2|0.19815668202764977|\n",
      "|      8.77| 2.0|  Male|    No| Sun|Dinner|   2|0.22805017103762829|\n",
      "|     19.65| 3.0|Female|    No| Sat|Dinner|   2|0.15267175572519084|\n",
      "|     13.27| 2.5|Female|   Yes| Sat|Dinner|   2|0.18839487565938207|\n",
      "|     10.27|1.71|  Male|    No| Sun|Dinner|   2| 0.1665043816942551|\n",
      "|     15.42|1.57|  Male|    No| Sun|Dinner|   2|0.10181582360570687|\n",
      "|     23.68|3.31|  Male|    No| Sun|Dinner|   2| 0.1397804054054054|\n",
      "|     14.78|3.23|  Male|    No| Sun|Dinner|   2| 0.2185385656292287|\n",
      "|     20.29|2.75|Female|    No| Sat|Dinner|   2|0.13553474618038444|\n",
      "|     15.77|2.23|Female|    No| Sat|Dinner|   2|0.14140773620798985|\n",
      "|     19.82|3.18|  Male|    No| Sat|Dinner|   2|0.16044399596367306|\n",
      "|     13.37| 2.0|  Male|    No| Sat|Dinner|   2|0.14958863126402394|\n",
      "|     12.69| 2.0|  Male|    No| Sat|Dinner|   2|0.15760441292356187|\n",
      "|     21.58|3.92|  Male|    No| Sun|Dinner|   2|0.18164967562557924|\n",
      "|     15.04|1.96|  Male|    No| Sun|Dinner|   2|0.13031914893617022|\n",
      "+----------+----+------+------+----+------+----+-------------------+\n",
      "only showing top 20 rows\n",
      "\n"
     ]
    }
   ],
   "source": [
    "tips.sort(tips.size).show()"
   ]
  },
  {
   "cell_type": "code",
   "execution_count": 75,
   "id": "6e32a8d5-b407-4b01-b0c0-b4bdd8ddaf22",
   "metadata": {},
   "outputs": [
    {
     "name": "stdout",
     "output_type": "stream",
     "text": [
      "+----------+----+------+------+----+------+----+-------------------+\n",
      "|total_bill| tip|   sex|smoker| day|  time|size|           tip_perc|\n",
      "+----------+----+------+------+----+------+----+-------------------+\n",
      "|      3.07| 1.0|Female|   Yes| Sat|Dinner|   1|0.32573289902280134|\n",
      "|      8.58|1.92|  Male|   Yes| Fri| Lunch|   1|0.22377622377622378|\n",
      "|      7.25| 1.0|Female|    No| Sat|Dinner|   1|0.13793103448275862|\n",
      "|     10.07|1.83|Female|    No|Thur| Lunch|   1| 0.1817279046673287|\n",
      "|     10.59|1.61|Female|   Yes| Sat|Dinner|   2|0.15203021718602455|\n",
      "|     14.48| 2.0|  Male|   Yes| Sun|Dinner|   2|0.13812154696132597|\n",
      "|     13.39|2.61|Female|    No| Sun|Dinner|   2|0.19492158327109782|\n",
      "|       9.6| 4.0|Female|   Yes| Sun|Dinner|   2| 0.4166666666666667|\n",
      "|     13.81| 2.0|  Male|    No| Sun|Dinner|   2| 0.1448225923244026|\n",
      "|     17.51| 3.0|Female|   Yes| Sun|Dinner|   2|0.17133066818960593|\n",
      "|     20.76|2.24|  Male|    No| Sun|Dinner|   2|0.10789980732177264|\n",
      "|     12.66| 2.5|  Male|    No| Sun|Dinner|   2|0.19747235387045814|\n",
      "|     14.07| 2.5|  Male|    No| Sun|Dinner|   2|0.17768301350390903|\n",
      "|      7.25|5.15|  Male|   Yes| Sun|Dinner|   2|  0.710344827586207|\n",
      "|     31.85|3.18|  Male|   Yes| Sun|Dinner|   2|0.09984301412872841|\n",
      "|     16.82| 4.0|  Male|   Yes| Sun|Dinner|   2|0.23781212841854935|\n",
      "|      32.9|3.11|  Male|   Yes| Sun|Dinner|   2| 0.0945288753799392|\n",
      "|     17.89| 2.0|  Male|   Yes| Sun|Dinner|   2|0.11179429849077696|\n",
      "|     34.63|3.55|  Male|   Yes| Sun|Dinner|   2|  0.102512272596015|\n",
      "|     10.63| 2.0|Female|   Yes| Sat|Dinner|   2|0.18814675446848542|\n",
      "+----------+----+------+------+----+------+----+-------------------+\n",
      "only showing top 20 rows\n",
      "\n"
     ]
    }
   ],
   "source": [
    "tips.orderBy(tips.size).show()"
   ]
  },
  {
   "cell_type": "markdown",
   "id": "74da023d-54f1-4f08-afcf-d5f12c7d8bb9",
   "metadata": {},
   "source": [
    "Filtering and Sorting:\n",
    "\n",
    "- `.filter` or `.where` to filter rows based on a condition\n",
    "- `.sort` or `.orderBy` to sort the data"
   ]
  },
  {
   "cell_type": "code",
   "execution_count": 77,
   "id": "f215cbd9-88fe-46f6-8509-32a2ac11f28e",
   "metadata": {},
   "outputs": [
    {
     "name": "stdout",
     "output_type": "stream",
     "text": [
      "+----------+---+------+------+----+------+----+-------------------+\n",
      "|total_bill|tip|   sex|smoker| day|  time|size|           tip_perc|\n",
      "+----------+---+------+------+----+------+----+-------------------+\n",
      "|     27.05|5.0|Female|    No|Thur| Lunch|   6|0.18484288354898337|\n",
      "|      34.3|6.7|  Male|    No|Thur| Lunch|   6|0.19533527696793004|\n",
      "|      29.8|4.2|Female|    No|Thur| Lunch|   6|0.14093959731543623|\n",
      "|     48.17|5.0|  Male|    No| Sun|Dinner|   6|0.10379904504878555|\n",
      "|     20.69|5.0|  Male|    No| Sun|Dinner|   5| 0.2416626389560174|\n",
      "+----------+---+------+------+----+------+----+-------------------+\n",
      "only showing top 5 rows\n",
      "\n"
     ]
    }
   ],
   "source": [
    "tips.orderBy(tips.size.desc()).show(5)"
   ]
  },
  {
   "cell_type": "code",
   "execution_count": 78,
   "id": "e89166c4-ebb8-4b18-8ba6-8bd8d6b9afa1",
   "metadata": {},
   "outputs": [],
   "source": [
    "from pyspark.sql.functions import asc, desc"
   ]
  },
  {
   "cell_type": "code",
   "execution_count": 79,
   "id": "909a7ece-f2e4-4878-a5d2-ce67e3f1d930",
   "metadata": {},
   "outputs": [
    {
     "name": "stdout",
     "output_type": "stream",
     "text": [
      "+----------+----+------+------+----+------+----+-------------------+\n",
      "|total_bill| tip|   sex|smoker| day|  time|size|           tip_perc|\n",
      "+----------+----+------+------+----+------+----+-------------------+\n",
      "|     27.05| 5.0|Female|    No|Thur| Lunch|   6|0.18484288354898337|\n",
      "|      29.8| 4.2|Female|    No|Thur| Lunch|   6|0.14093959731543623|\n",
      "|      34.3| 6.7|  Male|    No|Thur| Lunch|   6|0.19533527696793004|\n",
      "|     48.17| 5.0|  Male|    No| Sun|Dinner|   6|0.10379904504878555|\n",
      "|     20.69| 5.0|  Male|    No| Sun|Dinner|   5| 0.2416626389560174|\n",
      "|     28.15| 3.0|  Male|   Yes| Sat|Dinner|   5|0.10657193605683837|\n",
      "|     29.85|5.14|Female|    No| Sun|Dinner|   5| 0.1721943048576214|\n",
      "|     30.46| 2.0|  Male|   Yes| Sun|Dinner|   5|0.06565988181221273|\n",
      "|     41.19| 5.0|  Male|    No|Thur| Lunch|   5|0.12138868657441128|\n",
      "|     16.49| 2.0|  Male|    No| Sun|Dinner|   4|0.12128562765312312|\n",
      "|     17.81|2.34|  Male|    No| Sat|Dinner|   4|0.13138686131386862|\n",
      "|     18.29|3.76|  Male|   Yes| Sat|Dinner|   4|0.20557681793329688|\n",
      "|     18.35| 2.5|  Male|    No| Sat|Dinner|   4|0.13623978201634876|\n",
      "|     18.43| 3.0|  Male|    No| Sun|Dinner|   4|0.16277807921866522|\n",
      "|     19.77| 2.0|  Male|    No| Sun|Dinner|   4|0.10116337885685382|\n",
      "|     20.45| 3.0|  Male|    No| Sat|Dinner|   4| 0.1466992665036675|\n",
      "|     20.53| 4.0|  Male|   Yes|Thur| Lunch|   4| 0.1948368241597662|\n",
      "|     20.69|2.45|Female|    No| Sat|Dinner|   4|0.11841469308844853|\n",
      "|      21.5| 3.5|  Male|    No| Sun|Dinner|   4|0.16279069767441862|\n",
      "|     23.17| 6.5|  Male|   Yes| Sun|Dinner|   4| 0.2805351747949935|\n",
      "+----------+----+------+------+----+------+----+-------------------+\n",
      "only showing top 20 rows\n",
      "\n"
     ]
    }
   ],
   "source": [
    "tips.orderBy(desc('size'), asc('total_bill')).show()"
   ]
  }
 ],
 "metadata": {
  "kernelspec": {
   "display_name": "Python 3",
   "language": "python",
   "name": "python3"
  },
  "language_info": {
   "codemirror_mode": {
    "name": "ipython",
    "version": 3
   },
   "file_extension": ".py",
   "mimetype": "text/x-python",
   "name": "python",
   "nbconvert_exporter": "python",
   "pygments_lexer": "ipython3",
   "version": "3.8.8"
  }
 },
 "nbformat": 4,
 "nbformat_minor": 5
}
