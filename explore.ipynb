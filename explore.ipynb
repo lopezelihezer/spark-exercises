{
 "cells": [
  {
   "cell_type": "code",
   "execution_count": 2,
   "id": "81aecb45-f87e-4275-8682-cc8b70dab9cf",
   "metadata": {},
   "outputs": [
    {
     "name": "stdout",
     "output_type": "stream",
     "text": [
      "[wrangle.py] reading case.csv\n",
      "[wrangle.py] handling data types\n",
      "[wrangle.py] parsing dates\n",
      "[wrangle.py] adding features\n",
      "[wrangle.py] joining departments\n",
      "\n",
      "df shape: (841704, 20)\n",
      "\n",
      "-RECORD 0------------------------------------\n",
      " case_id              | 1014127332           \n",
      " case_opened_date     | 2018-01-01 00:42:00  \n",
      " case_closed_date     | 2018-01-01 12:29:00  \n",
      " case_due_date        | 2020-09-26 00:42:00  \n",
      " case_late            | false                \n",
      " num_days_late        | -998.5087616000001   \n",
      " case_closed          | true                 \n",
      " service_request_type | Stray Animal         \n",
      " SLA_days             | 999.0                \n",
      " case_status          | Closed               \n",
      " source_id            | svcCRMLS             \n",
      " request_address      | 2315  EL PASO ST,... \n",
      " council_district     | 005                  \n",
      " num_weeks_late       | -142.6441088         \n",
      " zipcode              | 78207                \n",
      " case_age             | 219                  \n",
      " days_to_closed       | 0                    \n",
      " case_lifetime        | 0                    \n",
      " department           | Animal Care Services \n",
      " dept_subject_to_SLA  | true                 \n",
      "only showing top 1 row\n",
      "\n"
     ]
    }
   ],
   "source": [
    "import warnings\n",
    "\n",
    "warnings.filterwarnings(\"ignore\")\n",
    "\n",
    "import pyspark.sql\n",
    "from pyspark.sql.functions import *\n",
    "\n",
    "import numpy as np\n",
    "import pandas as pd\n",
    "\n",
    "%matplotlib inline\n",
    "import matplotlib.pyplot as plt\n",
    "import seaborn as sns\n",
    "\n",
    "from wrangle import wrangle_311\n",
    "\n",
    "spark = pyspark.sql.SparkSession.builder.getOrCreate()\n",
    "\n",
    "df = wrangle_311(spark)\n",
    "print(\"\\ndf shape: (%d, %d)\\n\" % (df.count(), len(df.columns)))\n",
    "df.show(1, vertical=True)"
   ]
  },
  {
   "cell_type": "markdown",
   "id": "f9a4442d-45e2-465d-b36d-1ae670299b21",
   "metadata": {},
   "source": [
    "> How many different cases are there, by department?"
   ]
  },
  {
   "cell_type": "code",
   "execution_count": 4,
   "id": "8699f509-1714-4368-a3e0-f05def887678",
   "metadata": {},
   "outputs": [
    {
     "data": {
      "text/plain": [
       "['case_id',\n",
       " 'case_opened_date',\n",
       " 'case_closed_date',\n",
       " 'case_due_date',\n",
       " 'case_late',\n",
       " 'num_days_late',\n",
       " 'case_closed',\n",
       " 'service_request_type',\n",
       " 'SLA_days',\n",
       " 'case_status',\n",
       " 'source_id',\n",
       " 'request_address',\n",
       " 'council_district',\n",
       " 'num_weeks_late',\n",
       " 'zipcode',\n",
       " 'case_age',\n",
       " 'days_to_closed',\n",
       " 'case_lifetime',\n",
       " 'department',\n",
       " 'dept_subject_to_SLA']"
      ]
     },
     "execution_count": 4,
     "metadata": {},
     "output_type": "execute_result"
    }
   ],
   "source": [
    "df.columns"
   ]
  },
  {
   "cell_type": "code",
   "execution_count": 6,
   "id": "021e858d-d665-4943-8c10-85ecf0b687e0",
   "metadata": {},
   "outputs": [
    {
     "name": "stdout",
     "output_type": "stream",
     "text": [
      "+--------------------+------+\n",
      "|          department| count|\n",
      "+--------------------+------+\n",
      "|         Solid Waste|279270|\n",
      "|Animal Care Services|116915|\n",
      "|Trans & Cap Impro...| 96193|\n",
      "|  Parks & Recreation| 19907|\n",
      "|    Customer Service|  2849|\n",
      "|        Metro Health|  5163|\n",
      "|        City Council|    33|\n",
      "|DSD/Code Enforcement|321374|\n",
      "+--------------------+------+\n",
      "\n"
     ]
    }
   ],
   "source": [
    "df.groupby(\"department\").count().show()"
   ]
  },
  {
   "cell_type": "markdown",
   "id": "3fc6be1d-47a1-4bd6-8652-76fad370226c",
   "metadata": {},
   "source": [
    "> Does the percentage of cases that are late vary by department?"
   ]
  },
  {
   "cell_type": "code",
   "execution_count": 35,
   "id": "6640b3f7-deaf-4741-8155-0c55f9bfd5d3",
   "metadata": {},
   "outputs": [
    {
     "name": "stdout",
     "output_type": "stream",
     "text": [
      "+--------------------+---------+-----+----------+\n",
      "|          department|case_late|count|percentage|\n",
      "+--------------------+---------+-----+----------+\n",
      "|    Customer Service|     true| 2010|     0.002|\n",
      "|Trans & Cap Impro...|     true| 5411|     0.006|\n",
      "|        Metro Health|     true|  829|     0.001|\n",
      "|Animal Care Services|     true|23276|     0.028|\n",
      "|  Parks & Recreation|     true| 3797|     0.005|\n",
      "|         Solid Waste|     true|32945|     0.039|\n",
      "|DSD/Code Enforcement|     true|26235|     0.031|\n",
      "+--------------------+---------+-----+----------+\n",
      "\n"
     ]
    }
   ],
   "source": [
    "nrows = df.count()\n",
    "# groups by department and case_late\n",
    "# takes a count of cases per department\n",
    "# creates new column \"percentage\" divides count by nrows\n",
    "# displays findings\n",
    "# \"percentage\" is % of cases each department handles out of all cases\n",
    "\n",
    "(\n",
    "    df.groupby(\"department\", \"case_late\")\n",
    "    .count()\n",
    "    .filter(df.case_late == 'true')\n",
    "    .withColumn('percentage', (round((col('count')/ nrows), 3)))\n",
    "    .show() \n",
    ")\n",
    "\n",
    "# City Council had no late cases"
   ]
  },
  {
   "cell_type": "markdown",
   "id": "a91a9a2d-4f68-4d10-9bfc-ca599c6e28b9",
   "metadata": {},
   "source": [
    "They do not vary by a lot. "
   ]
  },
  {
   "cell_type": "markdown",
   "id": "2e8faf1d-577c-478d-9817-0bae43585b05",
   "metadata": {},
   "source": [
    "> On average, how late are the late cases by department?"
   ]
  },
  {
   "cell_type": "code",
   "execution_count": 38,
   "id": "c3ac3a2c-d40c-40a6-9e97-eede49e21fd8",
   "metadata": {},
   "outputs": [
    {
     "name": "stdout",
     "output_type": "stream",
     "text": [
      "+--------------------+---------+------------------+\n",
      "|          department|case_late|avg(num_days_late)|\n",
      "+--------------------+---------+------------------+\n",
      "|    Customer Service|     true| 87.68385942150394|\n",
      "|Trans & Cap Impro...|     true|10.603064680316946|\n",
      "|        Metro Health|     true|6.5438133155476494|\n",
      "|Animal Care Services|     true|23.458633245820124|\n",
      "|  Parks & Recreation|     true|22.348910457867518|\n",
      "|         Solid Waste|     true| 7.186821906120899|\n",
      "|DSD/Code Enforcement|     true| 49.38428705358908|\n",
      "+--------------------+---------+------------------+\n",
      "\n"
     ]
    }
   ],
   "source": [
    "#(\n",
    "#    df.groupby(\"department\")\n",
    "#    .agg(mean(\"num_days_late\"))\n",
    "#    .show() \n",
    "#)\n",
    "\n",
    "(\n",
    "    df.groupby(\"department\", \"case_late\")\n",
    "    .agg(mean(\"num_days_late\"))\n",
    "    .filter(df.case_late == 'true')\n",
    "    .show() \n",
    ")"
   ]
  },
  {
   "cell_type": "markdown",
   "id": "c24914ef-0196-465f-83eb-0556b1609de6",
   "metadata": {},
   "source": [
    "> What is the service type that is the most late? Just for Parks & Rec?"
   ]
  },
  {
   "cell_type": "code",
   "execution_count": 49,
   "id": "2c68f2e2-52b7-409d-8dce-94ac826f5671",
   "metadata": {},
   "outputs": [
    {
     "name": "stdout",
     "output_type": "stream",
     "text": [
      "shape: (8522, 20)\n"
     ]
    },
    {
     "data": {
      "text/html": [
       "<div>\n",
       "<style scoped>\n",
       "    .dataframe tbody tr th:only-of-type {\n",
       "        vertical-align: middle;\n",
       "    }\n",
       "\n",
       "    .dataframe tbody tr th {\n",
       "        vertical-align: top;\n",
       "    }\n",
       "\n",
       "    .dataframe thead th {\n",
       "        text-align: right;\n",
       "    }\n",
       "</style>\n",
       "<table border=\"1\" class=\"dataframe\">\n",
       "  <thead>\n",
       "    <tr style=\"text-align: right;\">\n",
       "      <th></th>\n",
       "      <th>case_id</th>\n",
       "      <th>case_opened_date</th>\n",
       "      <th>case_closed_date</th>\n",
       "      <th>case_due_date</th>\n",
       "      <th>case_late</th>\n",
       "      <th>num_days_late</th>\n",
       "      <th>case_closed</th>\n",
       "      <th>service_request_type</th>\n",
       "      <th>SLA_days</th>\n",
       "      <th>case_status</th>\n",
       "      <th>source_id</th>\n",
       "      <th>request_address</th>\n",
       "      <th>council_district</th>\n",
       "      <th>num_weeks_late</th>\n",
       "      <th>zipcode</th>\n",
       "      <th>case_age</th>\n",
       "      <th>days_to_closed</th>\n",
       "      <th>case_lifetime</th>\n",
       "      <th>department</th>\n",
       "      <th>dept_subject_to_SLA</th>\n",
       "    </tr>\n",
       "  </thead>\n",
       "  <tbody>\n",
       "    <tr>\n",
       "      <th>0</th>\n",
       "      <td>1014127339</td>\n",
       "      <td>2018-01-01 06:58:00</td>\n",
       "      <td>2018-01-02 15:32:00</td>\n",
       "      <td>2018-01-17 08:30:00</td>\n",
       "      <td>False</td>\n",
       "      <td>-14.706620</td>\n",
       "      <td>True</td>\n",
       "      <td>Front Or Side Yard Parking</td>\n",
       "      <td>16.063796</td>\n",
       "      <td>Closed</td>\n",
       "      <td>svcCRMSS</td>\n",
       "      <td>10133  FIGARO CANYON, San Antonio, 78251</td>\n",
       "      <td>004</td>\n",
       "      <td>-2.100946</td>\n",
       "      <td>78251</td>\n",
       "      <td>219</td>\n",
       "      <td>1.0</td>\n",
       "      <td>1</td>\n",
       "      <td>DSD/Code Enforcement</td>\n",
       "      <td>True</td>\n",
       "    </tr>\n",
       "    <tr>\n",
       "      <th>1</th>\n",
       "      <td>1014127368</td>\n",
       "      <td>2018-01-01 07:18:00</td>\n",
       "      <td>2018-01-02 15:22:00</td>\n",
       "      <td>2018-01-17 08:30:00</td>\n",
       "      <td>False</td>\n",
       "      <td>-14.713275</td>\n",
       "      <td>True</td>\n",
       "      <td>Right Of Way/Sidewalk Obstruction</td>\n",
       "      <td>16.049769</td>\n",
       "      <td>Closed</td>\n",
       "      <td>svcCRMSS</td>\n",
       "      <td>10133  FIGARO CANYON, San Antonio, 78251</td>\n",
       "      <td>004</td>\n",
       "      <td>-2.101896</td>\n",
       "      <td>78251</td>\n",
       "      <td>219</td>\n",
       "      <td>1.0</td>\n",
       "      <td>1</td>\n",
       "      <td>DSD/Code Enforcement</td>\n",
       "      <td>True</td>\n",
       "    </tr>\n",
       "  </tbody>\n",
       "</table>\n",
       "</div>"
      ],
      "text/plain": [
       "      case_id    case_opened_date    case_closed_date       case_due_date  \\\n",
       "0  1014127339 2018-01-01 06:58:00 2018-01-02 15:32:00 2018-01-17 08:30:00   \n",
       "1  1014127368 2018-01-01 07:18:00 2018-01-02 15:22:00 2018-01-17 08:30:00   \n",
       "\n",
       "   case_late  num_days_late  case_closed               service_request_type  \\\n",
       "0      False     -14.706620         True         Front Or Side Yard Parking   \n",
       "1      False     -14.713275         True  Right Of Way/Sidewalk Obstruction   \n",
       "\n",
       "    SLA_days case_status source_id                           request_address  \\\n",
       "0  16.063796      Closed  svcCRMSS  10133  FIGARO CANYON, San Antonio, 78251   \n",
       "1  16.049769      Closed  svcCRMSS  10133  FIGARO CANYON, San Antonio, 78251   \n",
       "\n",
       "  council_district  num_weeks_late zipcode  case_age  days_to_closed  \\\n",
       "0              004       -2.100946   78251       219             1.0   \n",
       "1              004       -2.101896   78251       219             1.0   \n",
       "\n",
       "   case_lifetime            department  dept_subject_to_SLA  \n",
       "0              1  DSD/Code Enforcement                 True  \n",
       "1              1  DSD/Code Enforcement                 True  "
      ]
     },
     "execution_count": 49,
     "metadata": {},
     "output_type": "execute_result"
    }
   ],
   "source": [
    "sample = df.sample(fraction=0.01, seed=13).toPandas()\n",
    "print(\"shape:\", sample.shape)\n",
    "sample.head(2)"
   ]
  },
  {
   "cell_type": "code",
   "execution_count": 59,
   "id": "1b56a8e0-26ae-4afb-8ec2-94033cbe758c",
   "metadata": {},
   "outputs": [
    {
     "name": "stdout",
     "output_type": "stream",
     "text": [
      "+--------------------+---------+------------------+\n",
      "|service_request_type|case_late|avg(num_days_late)|\n",
      "+--------------------+---------+------------------+\n",
      "|Zoning: Recycle Yard|     true|210.89201994318182|\n",
      "|  Zoning: Junk Yards|     true|200.20517608494276|\n",
      "|Structure/Housing...|     true|190.20707698509807|\n",
      "|Donation Containe...|     true|171.09115313942615|\n",
      "|Storage of Used M...|     true|163.96812829714287|\n",
      "|Labeling for Used...|     true|162.43032902285717|\n",
      "|Record Keeping of...|     true|153.99724039428568|\n",
      "|Signage Requied f...|     true|151.63868055333333|\n",
      "|Traffic Signal Gr...|     true|137.64583330000002|\n",
      "|License Requied U...|     true|128.79828704142858|\n",
      "+--------------------+---------+------------------+\n",
      "only showing top 10 rows\n",
      "\n"
     ]
    }
   ],
   "source": [
    "(\n",
    "    df.groupby(\"service_request_type\", \"case_late\")\n",
    "    .agg(mean(\"num_days_late\"))\n",
    "    .filter(df.case_late == 'true')\n",
    "    .sort(desc('avg(num_days_late)'))\n",
    "    .show(10) \n",
    ")\n",
    "# top 10"
   ]
  },
  {
   "cell_type": "code",
   "execution_count": 61,
   "id": "7f11b136-3cc3-4cab-916b-ff773e9abc92",
   "metadata": {},
   "outputs": [
    {
     "name": "stdout",
     "output_type": "stream",
     "text": [
      "+--------------------+---------+------------------+\n",
      "|service_request_type|case_late|avg(num_days_late)|\n",
      "+--------------------+---------+------------------+\n",
      "|Amenity Park Impr...|     true|    76.87018194568|\n",
      "|Major Park Improv...|     true| 75.79450367282354|\n",
      "|Reservation Assis...|     true|       66.03116319|\n",
      "|Park Building Mai...|     true|59.367469802695666|\n",
      "| Sportfield Lighting|     true|51.480049793645534|\n",
      "|          Electrical|     true|42.951971658345116|\n",
      "|        Tree Removal|     true| 40.28404224560715|\n",
      "|Landscape Mainten...|     true| 38.86797941326316|\n",
      "|     Heavy Equipment|     true| 38.56625730831579|\n",
      "|Miscellaneous Par...|     true| 33.62472491253488|\n",
      "+--------------------+---------+------------------+\n",
      "only showing top 10 rows\n",
      "\n"
     ]
    }
   ],
   "source": [
    "(\n",
    "    df\n",
    "    .where(df[\"department\"] == 'Parks & Recreation')\n",
    "    .groupby(\"service_request_type\", \"case_late\")\n",
    "    .agg(mean(\"num_days_late\"))\n",
    "    .filter(df.case_late == 'true')\n",
    "    .sort(desc('avg(num_days_late)'))\n",
    "    .show(10) \n",
    ")"
   ]
  },
  {
   "cell_type": "markdown",
   "id": "73476a7c-5be4-4d8d-9f7b-b895b6785b21",
   "metadata": {},
   "source": [
    "> For the DSD/Code Enforcement department, what are the most common service request types? Look at other departments too."
   ]
  },
  {
   "cell_type": "code",
   "execution_count": 66,
   "id": "748c2bd1-975d-4479-8c3e-c505862bc1e9",
   "metadata": {},
   "outputs": [
    {
     "name": "stdout",
     "output_type": "stream",
     "text": [
      "+--------------------+-----+\n",
      "|service_request_type|count|\n",
      "+--------------------+-----+\n",
      "|Overgrown Yard/Trash|65895|\n",
      "|        Bandit Signs|32910|\n",
      "|Front Or Side Yar...|28794|\n",
      "|Junk Vehicle On P...|21473|\n",
      "|Alley-Way Mainten...|20214|\n",
      "|Right Of Way/Side...|17699|\n",
      "|Vacant Lot/Overgr...| 9329|\n",
      "|Minimum Housing-O...| 8543|\n",
      "|Graffiti: Private...| 8525|\n",
      "|Dang. Premises/CL...| 8004|\n",
      "+--------------------+-----+\n",
      "only showing top 10 rows\n",
      "\n"
     ]
    }
   ],
   "source": [
    "(\n",
    "    df\n",
    "    .where(df.department == \"DSD/Code Enforcement\")\n",
    "    .groupby(\"service_request_type\")\n",
    "    .count()\n",
    "    .sort(desc(\"count\"))\n",
    "    .show(10)\n",
    ")"
   ]
  },
  {
   "cell_type": "code",
   "execution_count": 90,
   "id": "878d42fc-366c-4c3b-8bc3-c85ff5456f9d",
   "metadata": {},
   "outputs": [],
   "source": [
    "d = df.select(\"department\").distinct().toPandas()"
   ]
  },
  {
   "cell_type": "code",
   "execution_count": 89,
   "id": "5496b2a5-ae4f-4b98-8bd4-f974ceb6ed12",
   "metadata": {},
   "outputs": [
    {
     "name": "stdout",
     "output_type": "stream",
     "text": [
      "Department: Solid Waste\n",
      "+--------------------+-----+\n",
      "|service_request_type|count|\n",
      "+--------------------+-----+\n",
      "|           No Pickup|86855|\n",
      "+--------------------+-----+\n",
      "only showing top 1 row\n",
      "\n",
      "Department: Animal Care Services\n",
      "+--------------------+-----+\n",
      "|service_request_type|count|\n",
      "+--------------------+-----+\n",
      "|        Stray Animal|26760|\n",
      "+--------------------+-----+\n",
      "only showing top 1 row\n",
      "\n",
      "Department: Trans & Cap Improvements\n",
      "+--------------------+-----+\n",
      "|service_request_type|count|\n",
      "+--------------------+-----+\n",
      "|     Pot Hole Repair|20616|\n",
      "+--------------------+-----+\n",
      "only showing top 1 row\n",
      "\n",
      "Department: Parks & Recreation\n",
      "+--------------------+-----+\n",
      "|service_request_type|count|\n",
      "+--------------------+-----+\n",
      "|           Carpentry| 1944|\n",
      "+--------------------+-----+\n",
      "only showing top 1 row\n",
      "\n",
      "Department: Customer Service\n",
      "+--------------------+-----+\n",
      "|service_request_type|count|\n",
      "+--------------------+-----+\n",
      "|           Complaint| 2388|\n",
      "+--------------------+-----+\n",
      "only showing top 1 row\n",
      "\n",
      "Department: Metro Health\n",
      "+--------------------+-----+\n",
      "|service_request_type|count|\n",
      "+--------------------+-----+\n",
      "|License Renewal I...| 1349|\n",
      "+--------------------+-----+\n",
      "only showing top 1 row\n",
      "\n",
      "Department: City Council\n",
      "+--------------------+-----+\n",
      "|service_request_type|count|\n",
      "+--------------------+-----+\n",
      "|Request for Resea...|   31|\n",
      "+--------------------+-----+\n",
      "only showing top 1 row\n",
      "\n",
      "Department: DSD/Code Enforcement\n",
      "+--------------------+-----+\n",
      "|service_request_type|count|\n",
      "+--------------------+-----+\n",
      "|Overgrown Yard/Trash|65895|\n",
      "+--------------------+-----+\n",
      "only showing top 1 row\n",
      "\n"
     ]
    }
   ],
   "source": [
    "for c in d.department:\n",
    "    print(f\"Department: {c}\")\n",
    "    (\n",
    "    df\n",
    "    .where(df.department == c)\n",
    "    .groupby(\"service_request_type\")\n",
    "    .count()\n",
    "    .sort(desc(\"count\"))\n",
    "    .show(1)\n",
    "    )"
   ]
  },
  {
   "cell_type": "code",
   "execution_count": null,
   "id": "8b8c31a0-dbc9-4fd0-ba2c-bbcc1ae8f603",
   "metadata": {},
   "outputs": [],
   "source": []
  }
 ],
 "metadata": {
  "kernelspec": {
   "display_name": "Python 3",
   "language": "python",
   "name": "python3"
  },
  "language_info": {
   "codemirror_mode": {
    "name": "ipython",
    "version": 3
   },
   "file_extension": ".py",
   "mimetype": "text/x-python",
   "name": "python",
   "nbconvert_exporter": "python",
   "pygments_lexer": "ipython3",
   "version": "3.8.8"
  }
 },
 "nbformat": 4,
 "nbformat_minor": 5
}
